{
 "cells": [
  {
   "cell_type": "markdown",
   "metadata": {},
   "source": [
    "# Data Collection\n",
    "\n",
    "This notebook makes collecting data from an AutoAuto car easy."
   ]
  },
  {
   "cell_type": "markdown",
   "metadata": {},
   "source": [
    "### Helper functions\n",
    "\n",
    "- `capture_road_view()`: Capture, clip, resize and grayscale the car's \"road view\"\n",
    "- `capture_and_tag(tag)`: Save a snapshot to a category folder of the car's \"road view\"\n",
    "- `delete_last()`: Oops! Delete the last captured image if it's bad data"
   ]
  },
  {
   "cell_type": "code",
   "execution_count": 4,
   "metadata": {},
   "outputs": [],
   "source": [
    "import car\n",
    "import cv2\n",
    "import socket\n",
    "import time\n",
    "import os\n",
    "\n",
    "data_directory = \"capture_data\"\n",
    "hostname = socket.gethostname()\n",
    "lastfile = None\n",
    "\n",
    "tags = [ \"forward\", \"slight_left\", \"left\", \"sharp_left\", \"slight_right\", \"right\", \"sharp_right\" ]\n",
    "for directory in tags:\n",
    "    if not os.path.exists(os.path.join(data_directory, directory)):\n",
    "        os.makedirs(os.path.join(data_directory, directory))\n",
    "\n",
    "def capture_road_view():\n",
    "    return cv2.cvtColor(cv2.resize(car.capture()[120:], (64, 64), interpolation = cv2.INTER_CUBIC), cv2.COLOR_BGR2GRAY)\n",
    "    \n",
    "    \n",
    "def capture_and_tag(tag):\n",
    "    global lastfile\n",
    "    filename = os.path.join(data_directory, tag, hostname + str(int(time.time())) + \".png\")\n",
    "    cv2.imwrite(filename, capture_road_view())\n",
    "    lastfile = filename\n",
    "    return filename\n",
    "\n",
    "def delete_last():\n",
    "    if os.path.exists(lastfile):\n",
    "        os.remove(lastfile)\n"
   ]
  },
  {
   "cell_type": "markdown",
   "metadata": {},
   "source": [
    "### UI Functions\n",
    "\n",
    "Run this cell to make the user interface"
   ]
  },
  {
   "cell_type": "code",
   "execution_count": 2,
   "metadata": {},
   "outputs": [
    {
     "data": {
      "application/vnd.jupyter.widget-view+json": {
       "model_id": "5d4c0eec881545b8af74344eb16dee55",
       "version_major": 2,
       "version_minor": 0
      },
      "text/html": [
       "<p>Failed to display Jupyter Widget of type <code>HBox</code>.</p>\n",
       "<p>\n",
       "  If you're reading this message in the Jupyter Notebook or JupyterLab Notebook, it may mean\n",
       "  that the widgets JavaScript is still loading. If this message persists, it\n",
       "  likely means that the widgets JavaScript library is either not installed or\n",
       "  not enabled. See the <a href=\"https://ipywidgets.readthedocs.io/en/stable/user_install.html\">Jupyter\n",
       "  Widgets Documentation</a> for setup instructions.\n",
       "</p>\n",
       "<p>\n",
       "  If you're reading this message in another frontend (for example, a static\n",
       "  rendering on GitHub or <a href=\"https://nbviewer.jupyter.org/\">NBViewer</a>),\n",
       "  it may mean that your frontend doesn't currently support widgets.\n",
       "</p>\n"
      ],
      "text/plain": [
       "HBox(children=(Button(description='Sharp Left', style=ButtonStyle()), Button(description='Left', style=ButtonStyle()), Button(description='Slight Left', style=ButtonStyle()), Button(description='Forward', style=ButtonStyle()), Button(description='Slight Right', style=ButtonStyle()), Button(description='Right', style=ButtonStyle()), Button(description='Sharp Right', style=ButtonStyle())))"
      ]
     },
     "metadata": {},
     "output_type": "display_data"
    },
    {
     "data": {
      "application/vnd.jupyter.widget-view+json": {
       "model_id": "c1d36c71048f412c916b4de99f83853f",
       "version_major": 2,
       "version_minor": 0
      },
      "text/html": [
       "<p>Failed to display Jupyter Widget of type <code>Button</code>.</p>\n",
       "<p>\n",
       "  If you're reading this message in the Jupyter Notebook or JupyterLab Notebook, it may mean\n",
       "  that the widgets JavaScript is still loading. If this message persists, it\n",
       "  likely means that the widgets JavaScript library is either not installed or\n",
       "  not enabled. See the <a href=\"https://ipywidgets.readthedocs.io/en/stable/user_install.html\">Jupyter\n",
       "  Widgets Documentation</a> for setup instructions.\n",
       "</p>\n",
       "<p>\n",
       "  If you're reading this message in another frontend (for example, a static\n",
       "  rendering on GitHub or <a href=\"https://nbviewer.jupyter.org/\">NBViewer</a>),\n",
       "  it may mean that your frontend doesn't currently support widgets.\n",
       "</p>\n"
      ],
      "text/plain": [
       "Button(description='Undo', style=ButtonStyle())"
      ]
     },
     "metadata": {},
     "output_type": "display_data"
    },
    {
     "name": "stdout",
     "output_type": "stream",
     "text": [
      "Instantiated a camera object!\n",
      "Captured 1 frame.\n"
     ]
    }
   ],
   "source": [
    "import ipywidgets as widgets\n",
    "from car import steering, throttle\n",
    "\n",
    "last_direction = 0.0\n",
    "\n",
    "# JEAIME DEBUG THIS PLZZZ!!! it's not actually backing up\n",
    "# Per Joyce design does not have true reverse function, it was made using some coding trickery and therefore does not work at all times\n",
    "def undo_capture(button):\n",
    "    global last_direction\n",
    "    delete_last()\n",
    "    steering.set_steering(last_direction)\n",
    "    throttle.set_throttle(-70)\n",
    "    time.sleep(0.1)\n",
    "    throttle.set_throttle(0)\n",
    "    time.sleep(0.2)\n",
    "    \n",
    "def drive(direction):\n",
    "    global last_direction    \n",
    "    steering.set_steering(direction)\n",
    "    throttle.set_throttle(70)\n",
    "    time.sleep(0.1)\n",
    "    throttle.set_throttle(0)\n",
    "    time.sleep(0.2)\n",
    "    last_direction = direction\n",
    "\n",
    "def capture_drive(tag, direction):\n",
    "    capture_and_tag(tag)\n",
    "    drive(direction)\n",
    "\n",
    "\n",
    "def capture_forward(button):\n",
    "    capture_drive(\"forward\", 0)\n",
    "    \n",
    "def capture_slight_left(button):\n",
    "    capture_drive(\"slight_left\", 20)\n",
    "\n",
    "def capture_left(button):\n",
    "    capture_drive(\"left\", 35)\n",
    "\n",
    "def capture_sharp_left(button):\n",
    "    capture_drive(\"sharp_left\", 50)\n",
    "    \n",
    "def capture_slight_right(button):\n",
    "    capture_drive(\"slight_right\", -20)\n",
    "    \n",
    "def capture_right(button):\n",
    "    capture_drive(\"right\", -35)\n",
    "    \n",
    "def capture_sharp_right(button):\n",
    "    capture_drive(\"sharp_right\", -50)\n",
    "    \n",
    "def make_button(description, handler):\n",
    "    button = widgets.Button(description=description)\n",
    "    button.on_click(handler)\n",
    "    return button\n",
    "\n",
    "commands = [ (\"Sharp Left\", capture_sharp_left), (\"Left\", capture_left), (\"Slight Left\", capture_slight_left),\n",
    "           (\"Forward\", capture_forward),\n",
    "           (\"Slight Right\", capture_slight_right), (\"Right\", capture_right), (\"Sharp Right\", capture_sharp_right) ]\n",
    "box = widgets.HBox([ make_button(c[0], c[1]) for c in commands ])\n",
    "undo_button = widgets.Button(description=\"Undo\")\n",
    "undo_button.on_click(undo_capture)\n",
    "display(box)\n",
    "display(undo_button)\n"
   ]
  }
 ],
 "metadata": {
  "kernelspec": {
   "display_name": "Python 3",
   "language": "python",
   "name": "python3"
  },
  "language_info": {
   "codemirror_mode": {
    "name": "ipython",
    "version": 3
   },
   "file_extension": ".py",
   "mimetype": "text/x-python",
   "name": "python",
   "nbconvert_exporter": "python",
   "pygments_lexer": "ipython3",
   "version": "3.6.4"
  }
 },
 "nbformat": 4,
 "nbformat_minor": 2
}
